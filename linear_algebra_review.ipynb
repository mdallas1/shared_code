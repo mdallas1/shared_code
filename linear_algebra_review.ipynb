{
  "nbformat": 4,
  "nbformat_minor": 0,
  "metadata": {
    "colab": {
      "provenance": [],
      "authorship_tag": "ABX9TyMlMMJipzForjfVYJWP8zWQ",
      "include_colab_link": true
    },
    "kernelspec": {
      "name": "python3",
      "display_name": "Python 3"
    },
    "language_info": {
      "name": "python"
    }
  },
  "cells": [
    {
      "cell_type": "markdown",
      "metadata": {
        "id": "view-in-github",
        "colab_type": "text"
      },
      "source": [
        "<a href=\"https://colab.research.google.com/github/mdallas1/shared_code/blob/main/linear_algebra_review.ipynb\" target=\"_parent\"><img src=\"https://colab.research.google.com/assets/colab-badge.svg\" alt=\"Open In Colab\"/></a>"
      ]
    },
    {
      "cell_type": "markdown",
      "source": [
        "This colab notebook reviews the essential content from linear algebra, and demonstrates some basic matrix operations with Octave. To run the code, click the play button that appears to the left when you place your mouse over the gray code cells. The one immediately below this cell may take a minute to run, but you're good to go once you see a green check to the left of the cell. In this notebook, you'll always see two adjacent cells (aside from the first one immediately below). Always run the one that says %%writefile first, and then run the one below it to see the output."
      ],
      "metadata": {
        "id": "hwneI7DJyJXj"
      }
    },
    {
      "cell_type": "code",
      "source": [
        "!apt install octave"
      ],
      "metadata": {
        "id": "DRsSdznpM3Ai"
      },
      "execution_count": null,
      "outputs": []
    },
    {
      "cell_type": "markdown",
      "source": [
        "# Linear Algebra Review\n",
        "\n",
        "For the purposes of this class, a *matrix* is an $m\\times n$ array of real or complex numbers with $m$ rows and $n$ columns. If $A$ is an $m\\times n$ matrix, its entry in the $i$th row and $j$th column is denote $a_{ij}$. For a concrete example, if $A$ is a $3\\times 5$ matrix, then $A$ can be written as\n",
        "$$\n",
        "\\begin{align}\n",
        "A = \\begin{bmatrix} a_{11} &a_{12} &a_{13} \\\\ a_{21} &a_{22} &a_{23} \\\\ a_{31} &a_{32} &a_{33}\\end{bmatrix}\n",
        "\\end{align}\n",
        "$$\n",
        "\n",
        "In Octave, a matrix is denoted by square brackets, with semicolons indicated the end of a row. The code cells below demonstrates how to define a matrix entrywise."
      ],
      "metadata": {
        "id": "9oq1jPJxM1cA"
      }
    },
    {
      "cell_type": "code",
      "source": [
        "%%writefile a_mat.\n",
        "A = [1 2 3; 4 5 6; 7 8 9]"
      ],
      "metadata": {
        "id": "WXmeL-rUeBCG"
      },
      "execution_count": null,
      "outputs": []
    },
    {
      "cell_type": "code",
      "source": [
        "!octave -W a_mat.m"
      ],
      "metadata": {
        "id": "IxTrOqiDeSN2"
      },
      "execution_count": null,
      "outputs": []
    },
    {
      "cell_type": "markdown",
      "source": [
        "We can also define a matrix via its rows or columns. For example, we can write $A = [\\mathbf{a}_1 \\mathbf{a}_2 \\cdots \\mathbf{a}_n]$, where $\\mathbf{a}_j$ is the $j$th column of $A$. Alternativley, we can write $A = [\\mathbf{a}^1 \\mathbf{a}^2 \\cdots \\mathbf{a}^m]$ where $\\mathbf{a}^i$ is the $i$th row of $A$. We can also define $A$ by rows or columns in Octave as demonstrated below.\n"
      ],
      "metadata": {
        "id": "NraiSEhvfKTB"
      }
    },
    {
      "cell_type": "code",
      "source": [
        "%%writefile a_mat2.m\n",
        "\n",
        "% Define A by rows\n",
        "a1 = [1 2 3]; a2 = [4 5 6]; a3 = [7 8 9];\n",
        "A_rows = [a1 ; a2 ; a3]\n",
        "\n",
        "% Define A by columns\n",
        "a1 = [1 ; 4 ; 7]; a2 = [2 ; 5 ; 8]; a3 = [3 ; 6; 9];\n",
        "A_cols = [a1 a2 a3]"
      ],
      "metadata": {
        "id": "CV-UzmnpfmH6"
      },
      "execution_count": null,
      "outputs": []
    },
    {
      "cell_type": "code",
      "source": [
        "!octave -W a_mat2.m"
      ],
      "metadata": {
        "id": "JGW5xdN0gJVA"
      },
      "execution_count": null,
      "outputs": []
    },
    {
      "cell_type": "markdown",
      "source": [
        "A *vector* is an $m\\times 1$ matrix or $1\\times n$ matrix. The latter case is a row vector, and the former is a column vector. If we just say \"vector,\" we typically mean a column vector.\n",
        "\n",
        "A $1\\times 1$ matrix is a *scalar*. Scalars will always be denoted by lower case letters, and matrices will be denoted with upper case letters. We reserve **bold-faced** letters for **vectors**."
      ],
      "metadata": {
        "id": "FnK6Ol_pgURB"
      }
    },
    {
      "cell_type": "markdown",
      "source": [
        "# Matrix Operations\n",
        "\n",
        "To multiply a matrix by a scalar, simply multiply each entry in the matrix by the given scalar."
      ],
      "metadata": {
        "id": "i5B7fO25gnzi"
      }
    },
    {
      "cell_type": "code",
      "source": [
        "%%writefile mat_scalar.m\n",
        "A = [1 2 3; 4 5 6];\n",
        "2*A"
      ],
      "metadata": {
        "id": "KE2Q7ioKgwWJ"
      },
      "execution_count": null,
      "outputs": []
    },
    {
      "cell_type": "code",
      "source": [
        "!octave -W mat_scalar.m"
      ],
      "metadata": {
        "id": "_6eSmIfIg6IZ"
      },
      "execution_count": null,
      "outputs": []
    },
    {
      "cell_type": "markdown",
      "source": [
        "To add two matrices, you must first check that they have the same dimensions. If they do, then you just add the corresponding entries."
      ],
      "metadata": {
        "id": "YGH6Ptrug_Zo"
      }
    },
    {
      "cell_type": "code",
      "source": [
        "%%writefile mat_p_mat.m\n",
        "A = [1 2 3; 4 5 6], B = [1 1 -1; 0 2 4],\n",
        "\n",
        "% Add matrices of equal dimensions\n",
        "C = A + B\n",
        "\n",
        "% Add matrices of different dimensions is undefined\n",
        "D = A + [1 ; 2 ;3]"
      ],
      "metadata": {
        "id": "BgG3-zBchFzg"
      },
      "execution_count": null,
      "outputs": []
    },
    {
      "cell_type": "code",
      "source": [
        "!octave -W mat_p_mat.m"
      ],
      "metadata": {
        "id": "N0ybE5pohVCw"
      },
      "execution_count": null,
      "outputs": []
    },
    {
      "cell_type": "markdown",
      "source": [
        "Let 0 denote the matrix of all zeros. We can define the $m\\times n$ matrix of all zeros in octave with the command zeros(m,n)."
      ],
      "metadata": {
        "id": "0NaDQHjjhpYE"
      }
    },
    {
      "cell_type": "code",
      "source": [
        "%%writefile zero_mat.m\n",
        "% matrix of all zeros with 5 rows and 8 columns.\n",
        "Z = zeros(5,8)"
      ],
      "metadata": {
        "id": "L4YYYvXDh2K0"
      },
      "execution_count": null,
      "outputs": []
    },
    {
      "cell_type": "code",
      "source": [
        "!octave -W zero_mat.m"
      ],
      "metadata": {
        "id": "iokhELd9iBo4"
      },
      "execution_count": null,
      "outputs": []
    },
    {
      "cell_type": "markdown",
      "source": [
        "If $A$, $B$, and $C$ are matrices of equal dimensions, and $\\alpha$ and $\\beta$ are scalars, then the following hold.\n",
        "$$\n",
        "\\begin{align}\n",
        "A+0 &= A = 0+A \\\\\n",
        "A+B &= B+A\\\\\n",
        "(A+B)+C &= A+(B+c)\\\\\n",
        "\\alpha(A+B) &= \\alpha A+\\alpha B\\\\\n",
        "(\\alpha+\\beta) A &= \\alpha A + \\beta A\n",
        "\\end{align}\n",
        "$$\n",
        "\n",
        "An operation that comes up frequently is the *transpose* of a matrix. Given $A$, its transpose $A^T$ is obtained by defining row $i$ of $A^T$ to be the $i$th column of $A$. In Octave, $A'$ is the transpose of $A$.\n"
      ],
      "metadata": {
        "id": "iDgBywL4iIhf"
      }
    },
    {
      "cell_type": "code",
      "source": [
        "%%writefile mat_transpose.m\n",
        "A = [1 2 3; 4 5 6]\n",
        "\n",
        "% Compute transpose\n",
        "A_transpose = A'"
      ],
      "metadata": {
        "id": "zEI6MuTUi7nG"
      },
      "execution_count": null,
      "outputs": []
    },
    {
      "cell_type": "code",
      "source": [
        "!octave -W mat_transpose.m"
      ],
      "metadata": {
        "id": "3JdsvulnjDAy"
      },
      "execution_count": null,
      "outputs": []
    },
    {
      "cell_type": "markdown",
      "source": [
        "# Matrix Multiplication\n",
        "\n",
        "Given two vectors of equal length $n$, $\\mathbf{a}$ and $\\mathbf{b}$, we define their *dot product* as\n",
        "$$\n",
        "\\begin{align}\n",
        "\\mathbf{a}\\cdot \\mathbf{b} = \\sum_{i=1}^n a_ib_i\n",
        "\\end{align}\n",
        "$$\n",
        "An example with $n=3$ is given below."
      ],
      "metadata": {
        "id": "GCn__zSXjIXf"
      }
    },
    {
      "cell_type": "code",
      "source": [
        "%%writefile dot_prod.m\n",
        "a = [1 ; 2 ; 3], b = [3 ; 2 ; 1]\n",
        "dot1 = a'*b, dot2 = dot(a,b)"
      ],
      "metadata": {
        "id": "LRWWUq0hjhia"
      },
      "execution_count": null,
      "outputs": []
    },
    {
      "cell_type": "code",
      "source": [
        "!octave -W dot_prod.m"
      ],
      "metadata": {
        "id": "Km9UFQFFjwnC"
      },
      "execution_count": null,
      "outputs": []
    },
    {
      "cell_type": "markdown",
      "source": [
        "Notice in the code above that we compute the dot product of $\\mathbf{a}$ and $\\mathbf{b}$ in two different ways. dot2 is computed using the built in function *dot*, and the first way takes the transpose of the column vector $\\mathbf{a}$ and multiplies it by the column vector $\\mathbf{b}$. In general, a row vector on the left times a column vector on the right is always defined, and equals the dot product of the two vectors.\n",
        "\n",
        "## Matrix-Vector products\n",
        "\n",
        "Now we can define matrix-vector products. Express the $m\\times n$ matrix $A$ with rows:\n",
        "$$\n",
        "\\begin{align}\n",
        "A = \\begin{bmatrix} \\mathbf{a}^1 \\\\ \\mathbf{a}^2 \\\\ \\vdots \\\\ \\mathbf{a}^m \\end{bmatrix}\n",
        "\\end{align}\n",
        "$$\n",
        "Let $\\mathbf{v} = [v_1 v_2 \\cdots v_n]^T$ denote a general column vector of length $n$. We then define\n",
        "$$\n",
        "\\begin{align}\n",
        "A\\mathbf{v} = \\begin{bmatrix} \\mathbf{a}^1\\cdot \\mathbf{v} \\\\ \\mathbf{a}^2\\cdot \\mathbf{v} \\\\ \\vdots \\\\ \\mathbf{a}^m\\cdot \\mathbf{v} \\end{bmatrix} =  \\begin{bmatrix} a_1^1v_1 + a_2^1v_2 + \\cdots + a_n^1v_n \\\\\n",
        "\\vdots \\\\\n",
        "a_m^1v_1 + a_2^mv_2 + \\cdots + a_n^mv_n\n",
        " \\end{bmatrix}\n",
        "\\end{align}\n",
        "$$\n",
        "Note that the result of multiplying an $m\\times n$ matrix with an $n\\times 1$ vector is an $m\\times 1$ vector.\n",
        "\n",
        "**Warning**: if the length of $\\mathbf{v}$ does not equal the number of columns of $A$, then $A\\mathbf{v}$ is not defined.\n",
        "\n",
        "We'll also note here that the dot product $\\mathbf{a}\\cdot\\mathbf{b}$ for two vectors of length $n$ requires $n$ multiplications and $n-1$ additions for a total of $2n-1$ flops, or floating point operations.\n",
        "\n",
        "Since matrix-vector multiplication of an $m\\times n$ matrix with an $n\\times 1$ vector requires $m$ dot products to be computed, it follows that a matrix-vector product requires $2nm-m$ flops."
      ],
      "metadata": {
        "id": "Gm_MbAD4j8O-"
      }
    },
    {
      "cell_type": "code",
      "source": [
        "%%writefile mat_vec.m\n",
        "A = [1 2 3 ; 4 5 6], v = [-1 ; 2 ; 1]\n",
        "Atimesv = A*v"
      ],
      "metadata": {
        "id": "fiwMrwlpkzfi"
      },
      "execution_count": null,
      "outputs": []
    },
    {
      "cell_type": "code",
      "source": [
        "!octave -W mat_vec.m"
      ],
      "metadata": {
        "id": "7wUpY15DmDZP"
      },
      "execution_count": null,
      "outputs": []
    },
    {
      "cell_type": "markdown",
      "source": [
        "## Matrix-Matrix multiplication\n",
        "\n",
        "Let $A$ be an $m\\times n$ matrix with rows $\\mathbf{a}^i$, and $B$ be an $n\\times p$ matrix with columns $\\mathbf{b}_j$. The $ij$th entry of the product $AB$ is defined as $\\mathbf{a}^i\\cdot\\mathbf{b}_j$. In other words, the $j$th column of $AB$ is $A\\mathbf{b}_j$. We can express this\n",
        "$$\n",
        "\\begin{align}\n",
        "AB = A[\\mathbf{b}_1 \\mathbf{b}_2 \\cdots \\mathbf{b}_p] =[A\\mathbf{b}_1 A\\mathbf{b}_2 \\cdots A\\mathbf{b}_p]\n",
        "\\end{align}\n",
        "$$\n",
        "The number of columns of $A$ must match the number of rows of $B$ for $AB$ to be defined. If $A$ is $m\\times n$ and $B$ is $n\\times p$, then $AB$ has dimensions $m\\times p$."
      ],
      "metadata": {
        "id": "aSzfBpKamSoj"
      }
    },
    {
      "cell_type": "code",
      "source": [
        "%%writefile mat_mat.m\n",
        "A = [1 2 3 ; 4 5 6], B = [1 0 -1; 1 1 1; 1 0 0]\n",
        "AtimesB = A*B"
      ],
      "metadata": {
        "id": "tAd6apOYn3xZ"
      },
      "execution_count": null,
      "outputs": []
    },
    {
      "cell_type": "code",
      "source": [
        "!octave -W mat_mat.m"
      ],
      "metadata": {
        "id": "dznxNo2xoAV2"
      },
      "execution_count": null,
      "outputs": []
    },
    {
      "cell_type": "markdown",
      "source": [
        "We will let $I_n$ denote the $n\\times n$ matrix whose entries are all zero except for those on the diagonal. That is, if $e_{ij}$ is the $ij$th entry of $I_n$, then $e_{ij} = \\delta_{ij}$, where $\\delta_{ij}$ is the [Kronecker delta](https://en.wikipedia.org/wiki/Kronecker_delta). $I_n$ acts like the number 1 for matrices with respect to multiplication. We will frequently just write $I$ for the identity and let the context inform the dimension."
      ],
      "metadata": {
        "id": "d24rgem0oJN0"
      }
    },
    {
      "cell_type": "code",
      "source": [
        "%%writefile identity_mat.m\n",
        "\n",
        "% define identity matrix with 5 rows and 5 columns.\n",
        "I = eye(5)"
      ],
      "metadata": {
        "id": "EFfOzf-yorUo"
      },
      "execution_count": null,
      "outputs": []
    },
    {
      "cell_type": "code",
      "source": [
        "!octave -W identity_mat.m"
      ],
      "metadata": {
        "id": "6-3CTdCaozYv"
      },
      "execution_count": null,
      "outputs": []
    },
    {
      "cell_type": "markdown",
      "source": [
        "### Summary of matrix multiplication properties\n",
        "\n",
        "Let $A$, $B$, and $C$ be matrices whose dimensions are such that the operations below are well defined, and let $\\alpha$ denote a scalar. The following hold.\n",
        "$$\n",
        "\\begin{align}\n",
        "A(BC) &= (AB)C\\\\\n",
        "A(B+C) &= AB+AC\\\\\n",
        "(B+C)A &= BA+CA\\\\\n",
        "\\alpha (AB) &= (\\alpha A)B = A(\\alpha B)\\\\\n",
        "IA &= A = AI\n",
        "\\end{align}\n",
        "$$\n"
      ],
      "metadata": {
        "id": "LU8TrKlEo9qU"
      }
    },
    {
      "cell_type": "markdown",
      "source": [
        "## Here be dragons\n",
        "\n",
        "1. $AB\\neq BA$ in general.\n"
      ],
      "metadata": {
        "id": "G9j7ORn_pxpD"
      }
    },
    {
      "cell_type": "code",
      "source": [
        "%%writefile ab_not_ba.m\n",
        "A = [1 1 ; 1 1], B = [1 0 ; 0 2]\n",
        "AtimesB = A*B, BtimesA = B*A"
      ],
      "metadata": {
        "id": "qSbbbw5op41A"
      },
      "execution_count": null,
      "outputs": []
    },
    {
      "cell_type": "code",
      "source": [
        "!octave -W ab_not_ba.m"
      ],
      "metadata": {
        "collapsed": true,
        "id": "Dl6vNPFvqR2i"
      },
      "execution_count": null,
      "outputs": []
    },
    {
      "cell_type": "markdown",
      "source": [
        "2. $AB=AC$ does not, in general, imply that $B=C$."
      ],
      "metadata": {
        "id": "SilQVE-HqiGx"
      }
    },
    {
      "cell_type": "code",
      "source": [
        "%%writefile abisac_b_not_c.m\n",
        "\n",
        "A = [1 -1 ; 2 -2], B = [1 2 ; 1 1], C = [1 0; 1 -1]\n",
        "AtimesB = A*B, AtimesC = A*C"
      ],
      "metadata": {
        "id": "KVZ6f7XxqmtJ"
      },
      "execution_count": null,
      "outputs": []
    },
    {
      "cell_type": "code",
      "source": [
        "!octave -W abisac_b_not_c.m"
      ],
      "metadata": {
        "collapsed": true,
        "id": "40R0rUi0q203"
      },
      "execution_count": null,
      "outputs": []
    },
    {
      "cell_type": "markdown",
      "source": [
        "3. $AB=0$ does not necessarily mean $A=0$ or $B=0$. Indeed, take\n",
        "$$\n",
        "\\begin{align}\n",
        "A = B = \\begin{bmatrix} 0 &1\\\\ 0 &0 \\end{bmatrix}\n",
        "\\end{align}\n",
        "$$"
      ],
      "metadata": {
        "id": "CQK9VUhLrDPS"
      }
    },
    {
      "cell_type": "markdown",
      "source": [
        "In (2) and (3), if we could somehow \"divide\" by the matrix $A$, then we could indeed say that $B=C$ and $B=0$ respectively. This brings us to the notion of *invertible matrices*."
      ],
      "metadata": {
        "id": "dJgOHvhprXQs"
      }
    },
    {
      "cell_type": "markdown",
      "source": [
        "# Matrix Inverses\n",
        "\n",
        "If $A$ is a matrix that has the same number of rows and columns, then we say that $A$ is a *square matrix*. Let $A$ be a square matrix. If there exists a square matrix $B$ such that\n",
        "$$\n",
        "\\begin{align}\n",
        "AB = I = BA\n",
        "\\end{align}\n",
        "$$\n",
        "then we say that $A$ is *invertible*, or *nonsingular*, and we call $B$ the *inverse matrix* of $A$. The inverse $B$ is frequently denoted $A^{-1}$.\n",
        "\n",
        "Some things to note:\n",
        "\n",
        "1. If $A$ is not invertible, then we say $A$ is *singular*.\n",
        "2. If $A$ is invertible, and $AB=AC$, then $B=C$. This can be shown using the definition of $A^{-1}$ and the properties of matrix-matrix multiplication.\n",
        "$$\n",
        "\\begin{align}\n",
        "B = IB = (A^{-1}A)B = A^{-1}(AB) = A^{-1}(AC) = (A^{-1}A)C = IC = C.\n",
        "\\end{align}\n",
        "$$"
      ],
      "metadata": {
        "id": "DMbfgH08rl2x"
      }
    },
    {
      "cell_type": "markdown",
      "source": [
        "# The Determinant\n",
        "\n",
        "A quantity that frequently arises when discussing square matrices is the *determinant*. For a $2\\times 2$ matrix, the determinant is defined as\n",
        "$$\n",
        "\\begin{align}\n",
        "\\text{det}\\begin{bmatrix} a &b \\\\ c &d\\end{bmatrix} := ad-bc.\n",
        "\\end{align}\n",
        "$$\n",
        "\n",
        "Geometrically, the determinant tells us how much the matrix $A$ \"squishes\" the space it's acting on."
      ],
      "metadata": {
        "id": "MoFPr6E6svRv"
      }
    },
    {
      "cell_type": "code",
      "source": [
        "%%writefile det_a.m\n",
        "A = [1 2 ; 3 4], detA = det(A) % 4 - 6 = -2"
      ],
      "metadata": {
        "id": "qIoig1x_tb_u"
      },
      "execution_count": null,
      "outputs": []
    },
    {
      "cell_type": "code",
      "source": [
        "!octave -W det_a.m"
      ],
      "metadata": {
        "id": "DnSzfRC0th5E"
      },
      "execution_count": null,
      "outputs": []
    },
    {
      "cell_type": "markdown",
      "source": [
        "## Determinants of larger square matrices\n",
        "\n",
        "Let $A_{ij}$ denote the matrix obtained by deleting the $i$th row and the $j$th column. For example,\n",
        "if\n",
        "$$\n",
        "\\begin{align}\n",
        "A = \\begin{bmatrix} 1 &2 &5 \\\\ 0 &3 &2 \\\\ 1 &1 &-1\\end{bmatrix}\n",
        "\\end{align}\n",
        "$$\n",
        "then\n",
        "$$\n",
        "\\begin{align}\n",
        "A_{23} = \\begin{bmatrix} 1 &2\\\\ 1 &1\\end{bmatrix}\n",
        "\\end{align}\n",
        "$$\n",
        "Let $M_{ij} = (-1)^{i+j}\\text{det}(A_{ij})$. For a general $n\\times n$ matrix, the determinant is\n",
        "$$\n",
        "\\begin{align}\n",
        "\\text{det}(A) = \\sum_{j=1}^n (-1)^{i+j}a_{ij}M_{ij}\n",
        "\\end{align}\n",
        "$$\n",
        "The numbers $(-1)^{i+j}M_{ij}$ are called *cofactors*, and this method of computing $\\text{det}(A)$ is called *cofactor expansion*. It does not matter which row or column you expand along.\n",
        "\n",
        "**Example**: Here we expand along the first row.\n",
        "$$\n",
        "\\begin{align}\n",
        "\\text{det}\\begin{bmatrix} 1 &2 &3 \\\\ 4 &5 &6 \\\\ 7 &8 &9\\end{bmatrix}  = 1\\cdot \\text{det}\\begin{bmatrix} 5 &6\\\\ 8 &9\\end{bmatrix} - 2\\cdot\\begin{bmatrix} 4 &6\\\\ 7 &9\\end{bmatrix}+3\\cdot \\begin{bmatrix} 4 &5\\\\ 7 &8\\end{bmatrix} = 0.\n",
        "\\end{align}\n",
        "$$\n",
        "\n",
        "It is useful to know that given two square matrices $A$ and $B$, $\\text{det}(AB) = \\text{det}(A)\\text{det}(B)$.\n",
        "\n",
        "## Determinants and inverses\n",
        "\n",
        "Determinants and inverse matrices are intimately related. In fact, it can be proven that a square matrix $A$ is invertible if and only if $\\text{det}(A)\\neq 0$.\n",
        "\n",
        "We just saw that\n",
        "$$\n",
        "\\begin{align}\n",
        "\\text{det}\\begin{bmatrix} 1 &2 &3 \\\\ 4 &5 &6 \\\\ 7 &8 &9\\end{bmatrix}  = 0\n",
        "\\end{align}\n",
        "$$\n",
        "This tells us that\n",
        "$$\n",
        "\\begin{align}\n",
        "\\text{det}\\begin{bmatrix} 1 &2 &3 \\\\ 4 &5 &6 \\\\ 7 &8 &9\\end{bmatrix}\n",
        "\\end{align}\n",
        "$$\n",
        "is singular, i.e., it does not have an inverse.\n",
        "\n",
        "Not only does $\\text{det(A)}$ tell us if $A$ has an inverse, the determinant can tell us what that inverse is. If $\\det(A)\\neq 0$, then it it can be shown (using Cramer's rule) that\n",
        "$$\n",
        "\\begin{align}\n",
        "A^{-1} = \\dfrac{1}{\\text{det}(A)}\\begin{bmatrix}\n",
        "C_{11} &\\cdots &C_{1n} \\\\\n",
        "\\vdots &\\ddots &\\vdots \\\\\n",
        "C_{n1} &\\cdots & C_{nn}\n",
        "\\end{bmatrix}\n",
        "\\end{align}\n",
        "$$\n",
        "where $C_{ij} = (-1)^{i+j}\\text{det}(A_{ji})$. The matrix $C^T$ is called the *cofactor matrix*, and the matrix $C$ is called the *adjugate*."
      ],
      "metadata": {
        "id": "tafuvjR1t0Hf"
      }
    }
  ]
}