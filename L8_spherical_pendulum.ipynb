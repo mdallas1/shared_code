{
  "nbformat": 4,
  "nbformat_minor": 0,
  "metadata": {
    "colab": {
      "provenance": [],
      "collapsed_sections": [
        "ThsrM9DrSZf7"
      ],
      "authorship_tag": "ABX9TyP8xvKzfDirW2iUlaPiA3sS",
      "include_colab_link": true
    },
    "kernelspec": {
      "name": "python3",
      "display_name": "Python 3"
    },
    "language_info": {
      "name": "python"
    }
  },
  "cells": [
    {
      "cell_type": "markdown",
      "metadata": {
        "id": "view-in-github",
        "colab_type": "text"
      },
      "source": [
        "<a href=\"https://colab.research.google.com/github/mdallas1/shared_code/blob/main/L8_spherical_pendulum.ipynb\" target=\"_parent\"><img src=\"https://colab.research.google.com/assets/colab-badge.svg\" alt=\"Open In Colab\"/></a>"
      ]
    },
    {
      "cell_type": "code",
      "execution_count": null,
      "metadata": {
        "id": "Js_cUaQT6nMr",
        "collapsed": true
      },
      "outputs": [],
      "source": [
        "!apt install octave"
      ]
    },
    {
      "cell_type": "markdown",
      "source": [
        "# Spherical Pendulum: a nontrivial problem\n",
        "\n",
        "To end the semester, it feels right to solve a nontrivial problem where we don't know what the solution should necessarily look like, and we cannot (easily) solve the problem by hand. Section 8.10 in our book provides three examples of precisely this type of problem. We'll work through the first one.\n",
        "\n",
        "The goal is to model the motion of a particle under the force of gravity constrained to move on a spherical surface with radius 1.\n",
        "\n",
        "For you physics folks that have had theoretical mechanics, this problem will (probably) feel familiar. What I hope you take away from this problem is how we can pass from the analytical model to a numerical model, and then how we can solve this numerical model and verify that our solution is trustworthy despite not knowing the true solution.\n",
        "\n",
        "For non-physics folks, my hope is that you see how a rather complicated problem can be abstracted to fit in the Cauchy problem framework we've studied this unit, and therefore we can apply all the same techniques. I also hope that you see how we can verify a solution is trustworthy when we do not know what the true solution should look like.\n",
        "\n",
        "Plots will be very nice for this problem both for a sanity check and because they are pretty. Since I want to stick with Octave, I will include all the code below, but to see the plots you will need to copy the code into a local editor and run it there.\n"
      ],
      "metadata": {
        "id": "eYYstZsB6qwB"
      }
    },
    {
      "cell_type": "markdown",
      "source": [
        "# How to reduce everything to a first order system\n",
        "\n",
        "Ultimately, what we have in this problem is a particle subject to some forces. We can therefore apply Newton's second law, which tells us that if $x(t)$ is the position of a particle of mass $m$ at time $t\\geq t_0$ subject to a net force $F(t)$, then\n",
        "\n",
        "$$ x''(t) = \\dfrac{F(t)}{m}.$$\n",
        "\n",
        "We'll also refer to this as Newton's ODE. (This is just a term I decided to use here. It's not a standard term.) The methods we've studied for solving ODEs are designed for the Cauchy problem:\n",
        "\n",
        "$$\n",
        "\\begin{align}\n",
        "y'(t) &= f(t,y), \\hspace{1em} t \\text{ in } (t_0,T)\\\\\n",
        "y(t_0) &= y_0\n",
        "\\end{align}\n",
        "$$\n",
        "\n",
        "Note that Newton's second law is a second order ODE, not a first order ODE. So to use our methods to solve Newton's ODE, we need to write it as a first order ODE. There is a standard way to do this, and it has a particularly nice interpration when applied to Newton's ODE.\n",
        "\n",
        "Note that we can write $x''(t) = (x'(t))'$. If we now let $v(t) = x'(t)$, then $v'(t) = x''(t) = F(t)/m$. We thus obtain a **system** of two ODEs:\n",
        "\n",
        "$$\n",
        "\\begin{align}\n",
        "x'(t) &= v(t)\\\\\n",
        "v'(t) &= \\dfrac{F(t)}{m}.\n",
        "\\end{align}\n",
        "$$\n",
        "\n",
        "Interpreting $v(t)$ as the velocity of our particle at time $t$, what we have done is rewrite one equation describing the acceleration of the particle as two equations. One describes how the position changes, and the other describes how the velocity changes.\n",
        "\n",
        "If we write this system of two ODEs in vector form by letting $\\mathbf{y} = [x(t)\\hspace{0.5em} v(t)]^T$ and $\\mathbf{f}(t,\\mathbf{y}) = [v(t)\\hspace{0.5em} F(t)/m]^T$, we find that we now have a Cauchy problem!\n",
        "\n",
        "$$\n",
        "\\begin{align}\n",
        "\\mathbf{y}'(t) &= \\mathbf{f}(t,\\mathbf{y})\\\\\n",
        "\\mathbf{y}(t_0) &= \\mathbf{y}_0.\n",
        "\\end{align}\n",
        "$$\n",
        "\n",
        "To keep notation clean, you will typically see the components $x(t)$ and $v(t)$ of $\\mathbf{y}(t)$ written as $y_1(t)$ and $y_2(t)$ respectively. The really nice thing about writing this second order equation as a system of first order equations is that once we have a Cauchy problem, we can apply forward Euler, backward Euler, or Crank-Nicolson without any significant alterations.\n",
        "\n",
        "We will use precisely this trick in order to simulate the motion of a ball in a spherical bowl using these three methods. Our system, however, will not have two ODEs, but six. Since our ball can move in three dimensions, it's position $\\mathbf{x}(t)$ has three components: $x_1(t)$, $x_2(t)$, and $x_3(t)$. You could also write these as $x(t)$, $y(t)$, and $z(t)$ respectively, but the subscript form is standard and easier to generalize.\n",
        "\n",
        "Each of these components obeys Newton's second law. So we have three second order ODEs:\n",
        "\n",
        "$$\n",
        "\\begin{align}\n",
        "x_1''(t) &= F_1(t)/m \\\\\n",
        "x_2''(t) &= F_2(t)/m \\\\\n",
        "x_3''(t) &= F_3(t)/m \\\\\n",
        "\\end{align}\n",
        "$$\n",
        "\n",
        "We can still turn this into a Cauchy problem by applying our trick to each of these three second order equations. Thereby obtaining six first order equations of the form:\n",
        "\n",
        "$$\n",
        "\\begin{align}\n",
        "y_1'(t) &= y_4(t) \\\\\n",
        "y_2'(t) &= y_5(t) \\\\\n",
        "y_3'(t) &= y_6(t) \\\\\n",
        "y_4'(t) &= F_1/m\\\\\n",
        "y_5'(t) &= F_2/m\\\\\n",
        "y_6'(t) &= F_3/m\n",
        "\\end{align}\n",
        "$$\n",
        "\n",
        "Note that $y_1(t) = x_1(t)$, $y_2(t)=x_2(t)$, and $y_3(t)=x_3(t)$. If this seems like a lot, note that we can still write the system very simply as\n",
        "\n",
        "$$\n",
        "\\mathbf{y}' = \\mathbf{f}(t,\\mathbf{y}).\n",
        "$$\n",
        "\n",
        "So once we define $\\mathbf{f}$ in the code, we simply run the methods like we did with a single equation.\n",
        "\n",
        "<details>\n",
        "<summary><b>More detailed description of problem setup. </b></summary>\n",
        "\n",
        "# Setup with additional details\n",
        "\n",
        "Let's set up the differential equation we want to solve. We'll use Newton's second law, which says that the position $\\mathbf{x}(t)$ at time $t\\geq 0$ of a particle of mass $m$ subject to a force field $\\mathbf{F}(t)$ satisfies the second order linear *system* of ODEs\n",
        "\n",
        "$$ \\mathbf{x}''(t) = \\dfrac{\\mathbf{F}(t)}{m}.$$\n",
        "\n",
        "Notice that this is a system of three second order differential equations with three unknown functions: $x_1(t)$, $x_2(t)$, and $x_3(t)$. Written out fully, and noting that $\\mathbf{F}(t) = (F_1(t),F_2(t),F_3(t))^T$, we have\n",
        "\n",
        "$$\n",
        "\\begin{align}\n",
        "x_1''(t) &= F_1(t)/m \\\\\n",
        "x_2''(t) &= F_2(t)/m \\\\\n",
        "x_3''(t) &= F_3(t)/m \\\\\n",
        "\\end{align}\n",
        "$$\n",
        "\n",
        "Any degree $d$ ODE can be transformed into a system of $d$ first order equations. It follows that a system of $n$ second order equations can always be transformed into a system of $2n$ first order equations. This trick will allow us to transform this problem into a Cauchy problem. Let $\\Phi(\\mathbf{x})$ denote the constraint equation:\n",
        "\n",
        "$$\\Phi(\\mathbf{x}(t)) = x_1^2+x_2^2+x_3^2-1.$$\n",
        "\n",
        "Since our particle is constrained to move on a unit sphere, we require that\n",
        "\n",
        "$$\\Phi(\\mathbf{x}(t)) = 0$$\n",
        "\n",
        "for all $t\\geq 0$. This function will come into play as one of the forces acting on our particle.\n",
        "\n",
        "To follow our book's notation, for $i=1,2,3$, let $y_i = x_i$, and $y_{i+3} = x_i'$. We thus obtain the first order system\n",
        "\n",
        "$$\n",
        "\\begin{align}\n",
        "y_i'(t) &= y_{i+3}, \\text{ and } \\\\\n",
        "y_{i+3}'(t) &= \\dfrac{1}{m}\\left(F_i - \\lambda\\dfrac{\\partial \\Phi}{\\partial y_i}\\right).\n",
        "\\end{align}\n",
        "$$\n",
        "\n",
        "This is a system of six first order ODEs with six unknown functions $y_i$, $i=1,2,...6$.  Note that $F_1 = F_2 = 0$, $F_3 = -gm$, where $g = 9.8 m/s^2$ is magnitude of the acceleration due to gravity near Earth's surface, and $\\partial \\Phi/\\partial y_i = 2y_i$. Hence we can explicitly express the whole system as\n",
        "\n",
        "$$\n",
        "\\begin{align}\n",
        "y_1'(t) &= y_4(t) \\\\\n",
        "y_2'(t) &= y_5(t) \\\\\n",
        "y_3'(t) &= y_6(t) \\\\\n",
        "y_4'(t) &= -\\dfrac{2\\lambda}{m}y_1(t) \\\\\n",
        "y_5'(t) &= -\\dfrac{2\\lambda}{m}y_2(t) \\\\\n",
        "y_6'(t) &= -\\dfrac{1}{m}\\left( gm + 2\\lambda y_3(t)\\right)\n",
        "\\end{align}\n",
        "$$\n",
        "\n",
        "or in matrix-vector form:\n",
        "\n",
        "$$\n",
        "\\begin{bmatrix} y_1 \\\\ y_2 \\\\ y_3 \\\\ y_4 \\\\ y_5 \\\\ y_6\\end{bmatrix}'\n",
        " = \\begin{bmatrix} 0 &0 &0 &1 &0 &0 \\\\\n",
        " 0 &0 &0 &0 &1 &0 \\\\ 0 &0 &0 &0 &0 &1 \\\\\n",
        " -2\\lambda/m &0 &0 &0 &0 &0 \\\\\n",
        " 0 &-2\\lambda/m &0 &0 &0 &0 \\\\\n",
        " 0 &0 &-2\\lambda/m  &0 &0 &0\n",
        " \\end{bmatrix}\\begin{bmatrix} y_1 \\\\ y_2 \\\\ y_3 \\\\ y_4 \\\\ y_5 \\\\ y_6\\end{bmatrix} + \\begin{bmatrix} 0 \\\\0 \\\\0 \\\\0 \\\\0 \\\\-g\\end{bmatrix}\n",
        "$$\n",
        "\n",
        "We'll let $\\mathbf{y}(t) = (y_1,y_2,y_3,...,y_6)^T$. Here $\\lambda$ is a constant, but not a particularly pretty one. See page 314 for an explicit form of $\\lambda$, and see [here](https://people.computing.clemson.edu/~jtessen/cpsc6190/html/lectures/constrained/sphere_constrained_slides.pdf) for a derivation of the equations of motion. Since we will know the initial position and initial velocity of the mass, we have an initial conditoin $\\mathbf{y}(0) = \\mathbf{y}_0$. We now have a nice *linear* Cauchy problem:\n",
        "\n",
        "$$\n",
        "\\begin{align}\n",
        "\\mathbf{y}'(t) &= A\\mathbf{y}+\\mathbf{b}\\\\\n",
        "\\mathbf{y}(0) &= \\mathbf{y}_0\n",
        "\\end{align}\n",
        "$$\n",
        "\n",
        "\n",
        "The fact that these are vector quantities makes little difference in our implementation. We can still apply forward Euler, backward Euler, and Crank-Nicolson. That's what we'll do next.\n",
        "</details>"
      ],
      "metadata": {
        "id": "x1yMEgSYQMDo"
      }
    },
    {
      "cell_type": "markdown",
      "source": [
        "# Solvers and RHS function"
      ],
      "metadata": {
        "id": "nrCuLXUtKOGY"
      }
    },
    {
      "cell_type": "code",
      "source": [
        "#@title Forward Euler\n",
        "%%writefile fwd_euler.m\n",
        "\n",
        "function y = fwd_euler(t0,T,y0,f,N)\n",
        "  % ==============================\n",
        "  % FORWARD EULER METHOD SOLVING\n",
        "  % CAUCHY PROBLEM y' = f(t,y)\n",
        "  % ON [t0,T] with y(0) = y0.\n",
        "  % N IS THE NUMBER OF NODES.\n",
        "  % ==============================\n",
        "  y = zeros(6,N); y(:,1)=y0; h = (T-t0)/(N-1);\n",
        "  nodes = t0:h:T;\n",
        "  for k = 2:N\n",
        "    yprev = y(:,k-1);\n",
        "    y(:,k) = yprev + h * f(nodes(k-1),yprev);\n",
        "  end"
      ],
      "metadata": {
        "id": "uy8CIvdfFOaW"
      },
      "execution_count": null,
      "outputs": []
    },
    {
      "cell_type": "code",
      "source": [
        "#@title Backward Euler\n",
        "%%writefile bck_euler.m\n",
        "\n",
        "function y = bck_euler(t0,T,y0,f,N)\n",
        "  % ==============================\n",
        "  % BACKWARD EULER METHOD SOLVING\n",
        "  % CAUCHY PROBLEM y' = f(t,y)\n",
        "  % ON [t0,T] with y(0) = y0.\n",
        "  % N IS THE NUMBER OF NODES.\n",
        "  % ==============================\n",
        "  y = zeros(6,N); y(:,1)=y0; h = (T-t0)/(N-1);\n",
        "  nodes = t0:h:T;\n",
        "  for k = 2:N\n",
        "    yprev = y(:,k-1);\n",
        "    euler_fun = @(u) u - yprev - h * f(nodes(k),u);\n",
        "    y(:,k) = fsolve(euler_fun,yprev);\n",
        "  end"
      ],
      "metadata": {
        "id": "C-ml1bNvFZ0R"
      },
      "execution_count": null,
      "outputs": []
    },
    {
      "cell_type": "code",
      "source": [
        "#@title Crank-Nicolson\n",
        "%%writefile crank_nicolson.m\n",
        "function y = crank_nicolson(t0,T,y0,f,N)\n",
        "  % ==============================\n",
        "  % CRANK-NICOLSON METHOD SOLVING\n",
        "  % CAUCHY PROBLEM y' = f(t,y)\n",
        "  % ON [t0,T] with y(0) = y0.\n",
        "  % N IS THE NUMBER OF NODES.\n",
        "  % ==============================\n",
        "  y = zeros(6,1); y(:,1)=y0; h = (T-t0)/(N-1);\n",
        "  nodes = t0:h:T;\n",
        "  for k = 2:N\n",
        "    yprev = y(:,k-1);\n",
        "    euler_fun = @(u) u - yprev - 0.5*h*( f(nodes(k),u)+f(nodes(k-1),yprev) );\n",
        "    y(:,k) = fsolve(euler_fun,yprev);\n",
        "  end"
      ],
      "metadata": {
        "id": "WEvSBuo2Fbs3"
      },
      "execution_count": null,
      "outputs": []
    },
    {
      "cell_type": "code",
      "source": [
        "#@title Spherical Pendulum RHS\n",
        "%%writefile frhs.m\n",
        "function out = frhs(t,y)\n",
        "  mass = 1; g = 9.8;\n",
        "  Phix = 2*y(1); Phiy = 2*y(2); Phiz = 2*y(3);\n",
        "  G = [Phix ; Phiy ; Phiz];\n",
        "  F = [0 ; 0 ; -g*mass];\n",
        "\n",
        "  b = zeros(6,1); b(end) = -g;\n",
        "  lambda = (2*mass * dot(y(4:6),y(4:6)) + dot(G,F)) / dot(G,G);\n",
        "  A = zeros(6,6); u = -2*lambda/mass * ones(3,1);\n",
        "  A = A + diag(ones(3,1),3) + diag(u,-3);\n",
        "\n",
        "  out = A*y + b;\n",
        "end"
      ],
      "metadata": {
        "id": "VrBcVLaEFreC"
      },
      "execution_count": null,
      "outputs": []
    },
    {
      "cell_type": "markdown",
      "source": [
        "# Solve"
      ],
      "metadata": {
        "id": "ReeeQPYQKUNh"
      }
    },
    {
      "cell_type": "code",
      "source": [
        "%%writefile solve_pendulum.m\n",
        "\n",
        "% COPY THIS FILE INTO LOCAL EDITOR TO SEE PLOTS\n",
        "\n",
        "close all\n",
        "t0 = 0; T=25; y0=[0 1 0 0.8 0 1.2]';\n",
        "ff = @(t,y) frhs(t,y);\n",
        "y_fe = fwd_euler(t0,T,y0,ff,10e3);\n",
        "y_be = bck_euler(t0,T,y0,ff,20e3);\n",
        "y_cn = crank_nicolson(t0,T,y0,ff,1e3);\n",
        "tt = t0:(T-t0)/(1e4-1):T;\n",
        "\n",
        "r_fe = max(abs(y_fe(1,:).^2 + y_fe(2,:).^2 + y_fe(3,:).^2 - 1))\n",
        "r_be = max(abs(y_be(1,:).^2 + y_be(2,:).^2 + y_be(3,:).^2 - 1))\n",
        "r_cn = max(abs(y_cn(1,:).^2 + y_cn(2,:).^2 + y_cn(3,:).^2 - 1))\n",
        "\n",
        "%figure(1), hold on, grid on\n",
        "%plot3(y_fe(1,:),y_fe(2,:),y_fe(3,:))\n",
        "%plot3(y0(1),y0(2),y0(3),'or','Linewidth',1.2)\n",
        "%title(\"Forward Euler Solution\",\"FontSize\",16);\n",
        "\n",
        "%figure(2), hold on, grid on\n",
        "%plot3(y_be(1,:),y_be(2,:),y_be(3,:))\n",
        "%plot3(y0(1),y0(2),y0(3),'or','Linewidth',1.2)\n",
        "%title(\"Backward Euler Solution\",\"FontSize\",16);\n",
        "\n",
        "%figure(3), hold on, grid on\n",
        "%plot3(y_cn(1,:),y_cn(2,:),y_cn(3,:))\n",
        "%plot3(y0(1),y0(2),y0(3),'or','Linewidth',1.2)\n",
        "%title(\"Crank-Nicolson Solution\",\"FontSize\",16);\n"
      ],
      "metadata": {
        "id": "vryRxLGuHSQb"
      },
      "execution_count": null,
      "outputs": []
    },
    {
      "cell_type": "code",
      "source": [
        "!octave -W solve_pendulum.m"
      ],
      "metadata": {
        "collapsed": true,
        "id": "0I-mEp6xLlrI"
      },
      "execution_count": null,
      "outputs": []
    },
    {
      "cell_type": "markdown",
      "source": [
        "# How do we know which solution to trust?\n",
        "\n",
        "Upon plotting the solutions obtained from each method, we get three figures that all look sort of right, with perhaps one looking slightly better. The eyeball test has its uses, but if we we required a certain tolerance to be met in our simulation, which is usually the case, we'd need a more precise measure of the error. We don't, however, have a the true solution.\n",
        "\n",
        "In these cases we rely on an **error estimator**, but what's an appropriate estimator in this problem? One thing we can check is the constraint. If our solution is accurate, it should obey the constraint\n",
        "\n",
        "$$y_1(t)^2+y_2(t)^2 + y_3^2(t) = 1.$$\n",
        "\n",
        "We know $(y_1(t),y_2(t),y_3(t))^T$ at the nodes $t_n$, so we'll compute $r(\\mathbf{y}):=y_1(t)^2+y_2(t)^2 + y_3^2(t)  - 1$ at each node, and take the max value to be the error estimator.\n",
        "\n",
        " If you add a line to solve\\_pendulum.m to compute this, you find that $r(\\mathbf{y}_{fe}) = 1.0579$, $r(\\mathbf{y}_{be}) = 0.5806$, and $r(\\mathbf{y}_{cn}) = 0.095830$. Observing the plots (you'll to copy the code locally to plot) the Crank-Nicolson method does seem to give the best solution, and this is confirmed using the contstraint as our error estimator."
      ],
      "metadata": {
        "id": "Fz8pt_K7CiRv"
      }
    },
    {
      "cell_type": "markdown",
      "source": [
        "# Solve using built in high order methods\n",
        "\n",
        "To conclude our discussion of the spherical pendulum and numerical solutions to ODEs, we'll demonstrate the use of higher order methods that are implemented efficiently with built in MATLAB and Octave functions (and python as well; see below).\n",
        "\n",
        "Higher order methods are often built from **multistep methods**. Both forward Euler and backward Euler are *one step* methods: they use information about the derivative at a single point to inform the update at each step. Crank-Nicolson is a multistep method, specifically a 2-step method, since it uses information about the derivative at two places to inform the udpate step.\n",
        "\n",
        "Crank-Nicolson is more accurate than forward and backward Euler, which suggests that using more than one step yields a more accurate method. This is indeed the case, and motivates the use of even more steps. We won't discuss these explicitly here, but you can read sections 8.7 and 8.8 in our book for explicit examples. Here our focus is on calling them from built in functions.\n",
        "\n",
        "The examples below, ode45 and ode23, are two standard solvers used by mathematicians and scientists everyday. For information on other solvers available in MATLAB and Octave, and how to know how to choose a solver, check out [this page](https://www.mathworks.com/help/matlab/math/choose-an-ode-solver.html).\n",
        "\n",
        "For Python users, you can read about the available solvers in the scipy.integrate library [here](https://docs.scipy.org/doc/scipy/reference/generated/scipy.integrate.solve_ivp.html).\n"
      ],
      "metadata": {
        "id": "0EWxyVQ9G3SQ"
      }
    },
    {
      "cell_type": "markdown",
      "source": [
        "## ODE45\n",
        "\n",
        "The MATLAB/Octave function ode45 implements a fourth order multistep method. That is, the method converges like $\\mathcal{O}(h^4)$. This is even better than Crank-Nicolson's $\\mathcal{O}(h^2)$ convergence. It can be used to solve any Cauchy problem. To call ode45, you give it three arguments: the function $\\mathbf{f}$ on the right-hand-side, the time interval, and the initial condition. It returns the nodes $t_n$ and the solution $y$. Let's see this in action.\n"
      ],
      "metadata": {
        "id": "LuqweDxEQDrd"
      }
    },
    {
      "cell_type": "code",
      "source": [
        "#@title Solve Pendulum with ODE45\n",
        "%%writefile solve_pendulum_ode45.m\n",
        "\n",
        "t0 = 0; T=25; y0=[0 1 0 0.8 0 1.2]';\n",
        "ff = @(t,y) frhs(t,y);\n",
        "\n",
        "[nodes,y_ode45] = ode45(ff,[0 T],y0,odeset('RelTol',1e-4));\n",
        "\n",
        "% TAKE TRANSPOSE TO MATCH OUR FORMAT\n",
        "y_ode45 = y_ode45' ;\n",
        "\n",
        "% CHECK CONSTRAINT\n",
        "r_ode45 = max(abs(y_ode45(1,:).^2 + y_ode45(2,:).^2 + y_ode45(3,:).^2 - 1))\n",
        "\n",
        "% COPY INTO LOCAL EDITOR TO SEE PLOTS\n",
        "figure(4), hold on, grid on\n",
        "plot3(y_ode45(1,:),y_ode45(2,:),y_ode45(3,:))\n",
        "plot3(y0(1),y0(2),y0(3),'or','Linewidth',1.2)\n",
        "title(\"ODE45 Solution\",\"FontSize\",16);\n",
        "\n",
        "function out = frhs(t,y)\n",
        "  mass = 1; g = 9.8;\n",
        "  Phix = 2*y(1); Phiy = 2*y(2); Phiz = 2*y(3);\n",
        "  G = [Phix ; Phiy ; Phiz];\n",
        "  F = [0 ; 0 ; -g*mass];\n",
        "\n",
        "  b = zeros(6,1); b(end) = -g;\n",
        "  lambda = (2*mass * dot(y(4:6),y(4:6)) + dot(G,F)) / dot(G,G);\n",
        "  A = zeros(6,6); u = -2*lambda/mass * ones(3,1);\n",
        "  A = A + diag(ones(3,1),3) + diag(u,-3);\n",
        "\n",
        "  out = A*y + b;\n",
        "end"
      ],
      "metadata": {
        "cellView": "form",
        "id": "k3bzMLu1QGyF"
      },
      "execution_count": null,
      "outputs": []
    },
    {
      "cell_type": "code",
      "source": [
        "!octave -W solve_pendulum_ode45.m"
      ],
      "metadata": {
        "id": "0-FxvSzHQx1z"
      },
      "execution_count": null,
      "outputs": []
    },
    {
      "cell_type": "markdown",
      "source": [
        "## ODE23\n",
        "\n",
        "ode23 is called the same way as ode45, and implements an order 3 method. Let's see how it performs on the pendulum problem."
      ],
      "metadata": {
        "id": "ThsrM9DrSZf7"
      }
    },
    {
      "cell_type": "code",
      "source": [
        "#@title Solve Pendulum with ODE23\n",
        "%%writefile solve_pendulum_ode23.m\n",
        "\n",
        "t0 = 0; T=25; y0=[0 1 0 0.8 0 1.2]';\n",
        "ff = @(t,y) frhs(t,y);\n",
        "\n",
        "[nodes,y_ode23] = ode23(ff,[0 T],y0,odeset('RelTol',1e-4));\n",
        "\n",
        "% TAKE TRANSPOSE TO MATCH OUR FORMAT\n",
        "y_ode23 = y_ode23' ;\n",
        "\n",
        "% CHECK CONSTRAINT\n",
        "r_ode23 = max(abs(y_ode23(1,:).^2 + y_ode23(2,:).^2 + y_ode23(3,:).^2 - 1))\n",
        "\n",
        "% COPY INTO LOCAL EDITOR TO SEE PLOTS\n",
        "figure(5), hold on, grid on\n",
        "plot3(y_ode23(1,:),y_ode23(2,:),y_ode23(3,:))\n",
        "plot3(y0(1),y0(2),y0(3),'or','Linewidth',1.2)\n",
        "title(\"ODE23 Solution\",\"FontSize\",16);\n",
        "\n",
        "function out = frhs(t,y)\n",
        "  mass = 1; g = 9.8;\n",
        "  Phix = 2*y(1); Phiy = 2*y(2); Phiz = 2*y(3);\n",
        "  G = [Phix ; Phiy ; Phiz];\n",
        "  F = [0 ; 0 ; -g*mass];\n",
        "\n",
        "  b = zeros(6,1); b(end) = -g;\n",
        "  lambda = (2*mass * dot(y(4:6),y(4:6)) + dot(G,F)) / dot(G,G);\n",
        "  A = zeros(6,6); u = -2*lambda/mass * ones(3,1);\n",
        "  A = A + diag(ones(3,1),3) + diag(u,-3);\n",
        "\n",
        "  out = A*y + b;\n",
        "end"
      ],
      "metadata": {
        "id": "ws55lxt3S5s7"
      },
      "execution_count": null,
      "outputs": []
    },
    {
      "cell_type": "code",
      "source": [
        "!octave -W solve_pendulum_ode23.m"
      ],
      "metadata": {
        "id": "2CE_Ku80TDcC"
      },
      "execution_count": null,
      "outputs": []
    }
  ]
}