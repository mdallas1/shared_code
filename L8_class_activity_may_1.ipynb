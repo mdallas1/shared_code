{
  "nbformat": 4,
  "nbformat_minor": 0,
  "metadata": {
    "colab": {
      "provenance": [],
      "authorship_tag": "ABX9TyOaCYXk5jSPgQgVOIA6kIam",
      "include_colab_link": true
    },
    "kernelspec": {
      "name": "python3",
      "display_name": "Python 3"
    },
    "language_info": {
      "name": "python"
    }
  },
  "cells": [
    {
      "cell_type": "markdown",
      "metadata": {
        "id": "view-in-github",
        "colab_type": "text"
      },
      "source": [
        "<a href=\"https://colab.research.google.com/github/mdallas1/shared_code/blob/main/L8_class_activity_may_1.ipynb\" target=\"_parent\"><img src=\"https://colab.research.google.com/assets/colab-badge.svg\" alt=\"Open In Colab\"/></a>"
      ]
    },
    {
      "cell_type": "code",
      "execution_count": null,
      "metadata": {
        "id": "3fqjaMAPacdg",
        "collapsed": true
      },
      "outputs": [],
      "source": [
        "!apt install octave"
      ]
    },
    {
      "cell_type": "markdown",
      "source": [
        "# Introduction\n",
        "\n",
        "The focus of this unit has been the study of numerical methods for solving the **Cauchy problem:** find a function $y(t)$ defined on $[t_0,T]$ such that\n",
        "\n",
        "$$\n",
        "\\begin{align}\n",
        "y'(t) &= f(t,y(t)), \\hspace{1em} t \\text{ in } (t_0,T]\\\\\n",
        "y(t_0) &= y_0\n",
        "\\end{align}\n",
        "$$\n",
        "\n",
        "That is, if you know the function value at the start of your observations, and you know how the rate of change of the function behaves, can you construct the function itself?\n",
        "\n",
        "An important property that such a numerical method can have is **stability**. In a word, a method is **stable** if whenever you change the data slightly, i.e., slightly different initial condition $y_0$ or slightly different function $f$, the computed solution changes only slightly from the original solution. Note that in our discussion here, stability is a property of the *numerical method*, not the Cauchy problem itself.\n",
        "\n",
        "This notebook discusses the notion of stability, it's importance in the analysis of numerical methods, and then has you investigate via **four exercises** the stability properties of the forward Euler method, the backward Euler method, and the Crank-Nicolson method. **You should copy this notebook into your COLAB folder in Google drive, answer the questions in the given text cell, and then share your notebook with me.** This is not meant to be a lengthy activity, so you should complete the exercises and share your notebook with me by **11:59 PM on Thursday, May 2**. Please use my my UD email: mdallas@udallas.edu."
      ],
      "metadata": {
        "id": "yT7n3mkSR-yB"
      }
    },
    {
      "cell_type": "markdown",
      "source": [
        "# Stability\n",
        "\n",
        "Recall that, when studying linear systems, we observed that we are rarely solving $A\\mathbf{x}=\\mathbf{b}$ exactly on a machine. Rather, we are solving the perturbed system $(A+\\delta A)(\\mathbf{x}+\\delta\\mathbf{x}) = \\mathbf{b} +\\delta\\mathbf{b}$. We run into a similar problem when solving the Cauchy problem\n",
        "\n",
        "$$ y'(t) = f(t,y(t)), \\hspace{1em} y(t_0) = y_0$$\n",
        "\n",
        "on the interval $[t_0,T]$.\n",
        "\n",
        "Indeed, either due to rounding error or perhaps measurement error, we actually end up solving the perturbed problem\n",
        "\n",
        "$$ z'(t) = f(t,z(t)) + \\rho(t,z(t)), \\hspace{1em} z(t_0) = y_0 + \\rho_0$$\n",
        "\n",
        "Applying one of our finite difference methods, forward Euler, backward Euler, or Crank-Nicolson to $N_h$ nodes $x_i$ with $x_i-x_{i-1} = h$, where $h = (T-t_0)/N_h$, $i=1,...,N_h$, we can obtain the approximations $u_n\\approx y_n$, the solution to the unperturbed problem, and $z_n$, which approximates the solution of the perturbed problem. Let $\\rho_n = \\rho(t_n,z_n)$ denote the perturbation term at the $n$th node. We say that our numerical method is **zero-stable** if for sufficiently small $h$, if $|\\rho_n| < \\varepsilon$ (for some $\\varepsilon$ sufficiently small), then\n",
        "\n",
        "$$ |z_n-u_n| < C\\varepsilon$$\n",
        "\n",
        "for some $C$ independent of $h$.\n",
        "\n",
        "In short, this says that the difference between the numerical solution to the unperturbed problem and the numerical solution to the perturbed problem is controlled by the size of the perturbation as long as the perturbation isn't too large and $h$ is small.\n",
        "\n",
        "A rigorous definition may be found on page 284 of our book (equation 8.20).  The rest of this notebook is devoted to studying the stability properties of the three methods we've seen so far by applying them to a particular example."
      ],
      "metadata": {
        "id": "1tgXdJzQq8wb"
      }
    },
    {
      "cell_type": "markdown",
      "source": [
        "## Model Problem\n",
        "\n",
        "The following Cauchy problem will serve as our model problem for studying stability.\n",
        "\n",
        "$$\n",
        "\\begin{align}\n",
        "y'(t) &= \\lambda y(t), \\hspace{0.5em} t \\text{ in } (0,\\infty) \\\\\n",
        "y(0) &= 1\n",
        "\\end{align}\n",
        "$$\n",
        "\n",
        "where $\\lambda$ is any **negative** real number. This initial value problem models, for example, the number of atomic nuclei of a radiactive isotope remaining at time $t\\geq 0$ given we start with 1 (moles, perhaps).\n",
        "\n",
        "You should verify that the exact solution is $y(t) = e^{\\lambda t}$ and, since $\\lambda < 0$, $\\lim\\limits_{t\\to\\infty} e^{\\lambda t} =0$. Any reasonable numerical method generating an approximate solution $\\{u_n\\}$ should also satisfy $u_n\\to 0$ as $n\\to\\infty$. Indeed, if our numerical results imply that the number of isotopes is somehow growing with time, then it is a very poor approximation indeed. This will be our test for stability.\n",
        "\n",
        "The perturbations here are those that come from rounding."
      ],
      "metadata": {
        "id": "94Qv4nBFc1pI"
      }
    },
    {
      "cell_type": "markdown",
      "source": [
        "### Forward Euler\n",
        "\n",
        "We can't solve the model problem exactly on the given interval since the latter is unbounded. What we'll do is solve it on a finite interval $[0,T]$ for some large(ish) $T$. Recall that to apply the forward Euler method, we first divide $[0,T]$ into $N_h$ subintervals of length $h$. This gives us $N_h+1$ nodes $x_0=0,x_1,...,x_{N_h-1},x_{N_h} = T$, where $x_i = x_0 + ih$ for $i=0,...,N_h$. Then, starting with $u_0 = y_0$, we construt $u_n$ for $n\\geq 1$ by\n",
        "\n",
        "$$ u_n^{fe} = u_{n-1} + h f(t_{n-1},u_{n-1}).$$\n",
        "\n",
        "Since $u_n$ is an explicit function of $u_{n-1}$, it is very easy to calculate the next step. For this reason forward Euler is also called explicit Euler.\n",
        "\n",
        "Verify on our own (you don't have to submit this) that applying forward Euler to the model problem above yields\n",
        "\n",
        "$$ u_n = (1+\\lambda h)^n.$$\n",
        "\n",
        "Keep in mind that $\\lambda$ is set by the problem (we can't change the decay rate of whatever isotope we're studying), but we can choose our step size $h$. Determine what values of $h$ ensure $|1+\\lambda h| < 1$, thereby ensuring $u_n\\to 0 $ as $n\\to\\infty$. You should find that $u_n\\to 0$ only for certain values of $h$. Verify your answer with what the textbook gives on page 287 in equation 8.30.\n",
        "\n"
      ],
      "metadata": {
        "id": "N0q96jXMcnnc"
      }
    },
    {
      "cell_type": "markdown",
      "source": [
        "### Exercise 1\n",
        "\n",
        "Select a value of $h$ that is within the range you calculated above, and another value of $h$ outside the range. Run the code cell below applying forward Euler to the model problem with each value of $h$. What do you observe? For each $h$, does $u_n$ tend to zero as $t_n$ gets larger? Double click **here** to type your answer below. I strongly encourage you to copy the code into a\n",
        "local editor so you can see the plots. These really drive home what stability \"looks like.\"\n",
        "\n",
        "#### Your Answer\n",
        "\n"
      ],
      "metadata": {
        "id": "k3-6s5RIVZZ1"
      }
    },
    {
      "cell_type": "code",
      "source": [
        "#@title Exercise 1 code\n",
        "%%writefile exercise_1.m\n",
        "\n",
        "% APPLY FORWARD EULER WITH CHOSEN h\n",
        "lambda = -1; T = 30; t0 = 0; y0 = 1;\n",
        "f = @(t,y) lambda*y;\n",
        "\n",
        "% =====================\n",
        "% SET YOUR h VALUE HERE\n",
        "h =\n",
        "N = floor((T-t0)/h);\n",
        "% =====================\n",
        "\n",
        "% FORWARD EULER\n",
        "y = zeros(N,1); y(1)=y0;\n",
        "nodes = t0:h:T;\n",
        "for k = 2:length(nodes)\n",
        "  yprev = y(k-1);\n",
        "  y(k) = yprev + h * f(nodes(k-1),yprev);\n",
        "end\n",
        "\n",
        "% PRINT LAST 10 VALUES OF Y\n",
        "disp(y(end-9:end))\n",
        "\n",
        "% COPY INTO LOCAL EDITOR TO SEE PLOTS (STRONGLY RECOMMNEDED)\n",
        "y_true = @(x) exp(lambda*x); tt = linspace(t0,T);\n",
        "% close all\n",
        "% figure(1), hold on, grid on,\n",
        "% plot(tt,y_true(tt),'b--',nodes,y,'r-o');\n",
        "% legend(\"Exact soln\", \"Fwd Euler soln\")"
      ],
      "metadata": {
        "id": "JeQfxEmGhNr-"
      },
      "execution_count": null,
      "outputs": []
    },
    {
      "cell_type": "code",
      "source": [
        "!octave -W exercise_1.m"
      ],
      "metadata": {
        "id": "aV7eMtyVivF9"
      },
      "execution_count": null,
      "outputs": []
    },
    {
      "cell_type": "markdown",
      "source": [
        "### Backward Euler\n",
        "\n",
        "To implement backward Euler, we start the same way we started forward Euler. Divide the interval $[0,T]$ into $N_h$ intervals of length $h$. This gives us $N_h+1$ nodes $x_i = x_0 + ih$ for $i=0,...,N_h$. Starting from $u_0=y_0$, we take $u_n$ for $n\\geq 1$ to be\n",
        "\n",
        "$$ u_n^{be} = u_{n-1} + hf(t_n,u_n).$$\n",
        "\n",
        "Now $u_n$ is only an implicit function of $u_n$, hence backward Euler is sometimes called implicit Euler. To obtain $u_n$ from an implicit equation, we take $u_n$ to be the root of the function $\\varphi(x) = x-u_{n-1} - hf(t_n,x).$\n",
        "\n",
        "Verify (again, on your own) that applying backward Euler to the model problem yields\n",
        "\n",
        "$$ u_n = \\dfrac{u_{n-1}}{1-\\lambda h} = \\dfrac{1}{(1-\\lambda h)^n}.$$\n",
        "\n",
        "Thus, for any $\\lambda <0$, we have $1-\\lambda h > 1$, and therefore $u_n \\to 0$ as $n\\to\\infty$. This means backward Euler is always stable! This is what we gain from having to put in the extra effort to solve the equation $\\varphi(x) = 0$.\n",
        "\n",
        "\n"
      ],
      "metadata": {
        "id": "OMpneLIDcqaE"
      }
    },
    {
      "cell_type": "markdown",
      "source": [
        "### Exercise 2\n",
        "\n",
        " Run the code cell below applying backward Euler to the model problem. Use the same values of $h$ you used for forward Euler in **Exercise 1**. Do the numerical results match the theory? That is, does $u_n\\to 0$ as $n\\to\\infty$ for both choices of $h$? If you plot the solutions (you should!) how does the computed solution behave as you increase h? Double click **here** to type your answer below.\n",
        "\n",
        " #### Your Answer"
      ],
      "metadata": {
        "id": "NfFBMEzqVOct"
      }
    },
    {
      "cell_type": "code",
      "source": [
        "#@title Exercise 2 code\n",
        "%%writefile exercise_2.m\n",
        "\n",
        "% APPLY BACKWARD EULER WITH CHOSEN h\n",
        "lambda = -1; T = 30; t0 = 0; y0 = 1;\n",
        "f = @(t,y) lambda*y;\n",
        "\n",
        "% =====================\n",
        "% SET YOUR h VALUE HERE\n",
        "h =\n",
        "N = ceil((T-t0)/h);\n",
        "% =====================\n",
        "\n",
        "y = zeros(N,1); y(1)=y0; h = (T-t0)/(N-1);\n",
        "nodes = t0:h:T;\n",
        "for k = 2:N\n",
        "  yprev = y(k-1);\n",
        "  euler_fun = @(u) u - yprev - h * f(nodes(k),u);\n",
        "  y(k) = fsolve(euler_fun,yprev);\n",
        "end\n",
        "\n",
        "% PRINT LAST 10 VALUES OF Y\n",
        "disp(y(end-9:end))\n",
        "\n",
        "% COPY INTO LOCAL EDITOR TO SEE PLOTS (STRONGLY RECOMMNEDED)\n",
        "y_true = @(x) exp(lambda*x); tt = linspace(t0,T);\n",
        "% figure(1), hold on, grid on,\n",
        "% plot(tt,y_true(tt),'b--',nodes,y,'r-*');\n",
        "% legend(\"Exact soln\", \"Bck Euler soln\")"
      ],
      "metadata": {
        "id": "1TgyqckxudTU"
      },
      "execution_count": null,
      "outputs": []
    },
    {
      "cell_type": "code",
      "source": [
        "!octave -W exercise_2.m"
      ],
      "metadata": {
        "id": "rgixLhpnvaBc"
      },
      "execution_count": null,
      "outputs": []
    },
    {
      "cell_type": "markdown",
      "source": [
        "### Crank-Nicolson\n",
        "\n",
        "The last method we covered was the Crank-Nicolson method. Like backward Euler, Crank-Nicolson is an implicit method, which means we need to solve an equation at each time step just like in backward Euler. However, Crank-Nicolson converges with order 2, i.e., the error at each step is $\\mathcal{O}(h^2)$. This is better than both forward and backward Euler which converge like $\\mathcal{O}(h)$, i.e., order 1. This is not the only nice property of Crank-Nicolson. Like backward Euler, it is stable for any choice of $h$.\n",
        "\n",
        "Recall that Crank-Nicolson follows from integrating $y'=f(t,y)$ with the trapezoid rule. Starting from $u_0=y_0$, the resulting iteration is\n",
        "\n",
        "$$ u^{cn}_n = u_{n-1} + \\dfrac{h}{2}\\bigg(f(t_{n-1},u_{n-1}) + f(t_n,u_n)\\bigg).$$\n",
        "\n",
        "Notice that the update step, the thing we add to $u_{n-1}$ to get $u_n$, it just the average of the forward Euler and backward Euler step.\n",
        "\n",
        "Verify that applying Crank-Nicolson to our model problem yields\n",
        "\n",
        "$$ u_n = \\dfrac{(1+\\frac{h\\lambda}{2})^n}{(1-\\frac{h\\lambda}{2})^n}u_0 = \\left(\\dfrac{1+\\frac{h\\lambda}{2}}{1-\\frac{h\\lambda}{2}}\\right)^nu_0$$\n",
        "\n",
        "For any $\\lambda < 0$, $(1+h\\lambda/2)(1-h\\lambda/2)^{-1} < 1$, and therefore $u_n\\to 0$ as $n\\to\\infty$ for any choice of $h$. In other words, Crank-Nicolson is stable for all choices of $h$! And it's order 2!"
      ],
      "metadata": {
        "id": "3WvlYSmRcteo"
      }
    },
    {
      "cell_type": "markdown",
      "source": [
        "### Exercise 3\n",
        "\n",
        "Run the code cell below applying backward Euler to the model problem. Use the same values of $h$ you used for forward Euler in **Exercise 1**. Do the numerical results match the theory? That is, does $u_n\\to 0$ as $n\\to\\infty$ for both choices of $h$? What do you observe about the behavior of the solution as you increase $h$? (Plotting the function will make answering this much easier.) Double click **here** to type your answer below.\n",
        "\n",
        "#### Your Answer"
      ],
      "metadata": {
        "id": "prwSbI13VtTT"
      }
    },
    {
      "cell_type": "code",
      "source": [
        "#@title Exercise 3 code\n",
        "%%writefile exercise_3.m\n",
        "\n",
        "% APPLY CRANK-NICOLSON WITH CHOSEN h\n",
        "lambda = -1; T = 30; t0 = 0; y0 = 1;\n",
        "f = @(t,y) lambda*y;\n",
        "\n",
        "% =====================\n",
        "% SET YOUR h VALUE HERE\n",
        "h =\n",
        "N = floor((T-t0)/h);\n",
        "% =====================\n",
        "\n",
        "\n",
        "y = zeros(N,1); y(1)=y0; h = (T-t0)/(N-1);\n",
        "nodes = t0:h:T;\n",
        "for k = 2:N\n",
        "  yprev = y(k-1);\n",
        "  euler_fun = @(u) u - yprev - 0.5*h*( f(nodes(k),u)+f(nodes(k-1),yprev) );\n",
        "  y(k) = fsolve(euler_fun,yprev);\n",
        "end\n",
        "\n",
        "% PRINT LAST 10 VALUES OF Y\n",
        "disp(y(end-9:end))\n",
        "\n",
        "% COPY INTO LOCAL EDITOR TO SEE PLOTS (STRONGLY RECOMMNEDED)\n",
        "y_true = @(x) exp(lambda*x); tt = linspace(t0,T);\n",
        "% figure(1), hold on, grid on,\n",
        "% plot(tt,y_true(tt),'b--',nodes,y,'r-d');\n",
        "% legend(\"Exact soln\", \"Crank-Nicolson soln\")"
      ],
      "metadata": {
        "id": "aqNxDMj9vDAw"
      },
      "execution_count": null,
      "outputs": []
    },
    {
      "cell_type": "code",
      "source": [
        "!octave -W exercise_3.m"
      ],
      "metadata": {
        "id": "uCI0vA8pvdN2",
        "collapsed": true
      },
      "execution_count": null,
      "outputs": []
    },
    {
      "cell_type": "markdown",
      "source": [
        "# Final Remark\n",
        "\n",
        "To not be entirely unfair to forward Euler, we should mention that if we allow $h$ to vary at each step, then we can obtain better stability properties with forward Euler. This adaptive scheme is discussed on page 287 and 288 in our book."
      ],
      "metadata": {
        "id": "zTz7al_yctfp"
      }
    },
    {
      "cell_type": "markdown",
      "source": [
        "## Exercise 4: summary\n",
        "\n",
        "Based on this example, what are your takeaways concerning forward Euler, backward Euler, and Crank-Nicolson? What are the pros and cons of each? Which ones seems most accurate (just use the eyeball test with the plots)? Does this match the theory? Double click **here** and type your answer below.\n",
        "\n"
      ],
      "metadata": {
        "id": "CoTKuHCY47JV"
      }
    }
  ]
}